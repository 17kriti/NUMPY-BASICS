{
  "nbformat": 4,
  "nbformat_minor": 0,
  "metadata": {
    "colab": {
      "provenance": [],
      "authorship_tag": "ABX9TyOuViHGY7ZIiOPz3Gc4x5k3",
      "include_colab_link": true
    },
    "kernelspec": {
      "name": "python3",
      "display_name": "Python 3"
    },
    "language_info": {
      "name": "python"
    }
  },
  "cells": [
    {
      "cell_type": "markdown",
      "metadata": {
        "id": "view-in-github",
        "colab_type": "text"
      },
      "source": [
        "<a href=\"https://colab.research.google.com/github/17kriti/NUMPY-BASICS/blob/main/Numpy_Basics.ipynb\" target=\"_parent\"><img src=\"https://colab.research.google.com/assets/colab-badge.svg\" alt=\"Open In Colab\"/></a>"
      ]
    },
    {
      "cell_type": "markdown",
      "source": [
        "**NUMPY**"
      ],
      "metadata": {
        "id": "tBuSCNKZyTGx"
      }
    },
    {
      "cell_type": "code",
      "execution_count": 1,
      "metadata": {
        "colab": {
          "base_uri": "https://localhost:8080/"
        },
        "id": "3m2sScLt9eRS",
        "outputId": "8c8088c4-be48-4800-8e30-61239d6fba0a"
      },
      "outputs": [
        {
          "output_type": "stream",
          "name": "stdout",
          "text": [
            "[1 2 3 4 5]\n",
            "<class 'numpy.ndarray'>\n",
            "1\n"
          ]
        }
      ],
      "source": [
        " import numpy as np\n",
        "\n",
        "x =[1,2,3,4]\n",
        "y = np.array([1,2,3,4,5])\n",
        "print(y)\n",
        "print(type(y))\n",
        "print(y.ndim)"
      ]
    },
    {
      "cell_type": "code",
      "source": [
        "y=[1,2,3,4]\n",
        "print(y)\n",
        "print(type(y))\n"
      ],
      "metadata": {
        "colab": {
          "base_uri": "https://localhost:8080/"
        },
        "id": "Bpxq7X0h9rxn",
        "outputId": "afcc6abc-9439-4669-8dc9-892b7bed6a58"
      },
      "execution_count": 2,
      "outputs": [
        {
          "output_type": "stream",
          "name": "stdout",
          "text": [
            "[1, 2, 3, 4]\n",
            "<class 'list'>\n"
          ]
        }
      ]
    },
    {
      "cell_type": "markdown",
      "source": [
        "**Array**"
      ],
      "metadata": {
        "id": "cetGfUCsyw8v"
      }
    },
    {
      "cell_type": "code",
      "source": [
        "import numpy as np\n",
        "x =[1,2,3,4]\n",
        "\n",
        "y = np.array(x)\n",
        "print(y)"
      ],
      "metadata": {
        "colab": {
          "base_uri": "https://localhost:8080/"
        },
        "id": "rgsxs6qSydpk",
        "outputId": "e8ac35fd-fd0d-4c6f-d836-acf7aa8babad"
      },
      "execution_count": 3,
      "outputs": [
        {
          "output_type": "stream",
          "name": "stdout",
          "text": [
            "[1 2 3 4]\n"
          ]
        }
      ]
    },
    {
      "cell_type": "code",
      "source": [
        "l =[]\n",
        "\n",
        "for i in range(1,5):\n",
        "  int_1 = int(input(\"enter:\"))\n",
        "  l.append(int_1)\n",
        "print(np.array(l))"
      ],
      "metadata": {
        "colab": {
          "base_uri": "https://localhost:8080/"
        },
        "id": "SwlrdcUvy4p8",
        "outputId": "8badef29-313c-4ef3-cf8c-505fe969d2c2"
      },
      "execution_count": 6,
      "outputs": [
        {
          "output_type": "stream",
          "name": "stdout",
          "text": [
            "enter:11\n",
            "enter:12\n",
            "enter:3\n",
            "enter:4\n",
            "[11 12  3  4]\n"
          ]
        }
      ]
    },
    {
      "cell_type": "code",
      "source": [
        "ar2 = np.array([[1,2,3,4],[1,2,3,4]])\n",
        "print(ar2)\n",
        "print(ar2.ndim)"
      ],
      "metadata": {
        "colab": {
          "base_uri": "https://localhost:8080/"
        },
        "id": "onDp6GqfzHY-",
        "outputId": "206a632c-3673-49d2-ab2a-87daeb2e6889"
      },
      "execution_count": 7,
      "outputs": [
        {
          "output_type": "stream",
          "name": "stdout",
          "text": [
            "[[1 2 3 4]\n",
            " [1 2 3 4]]\n",
            "2\n"
          ]
        }
      ]
    },
    {
      "cell_type": "code",
      "source": [
        "ar3 = np.array([[[1,2,3,4],[1,2,3,4],[1,2,3,4]]])\n",
        "print(ar3)\n",
        "print(ar3.ndim)"
      ],
      "metadata": {
        "colab": {
          "base_uri": "https://localhost:8080/"
        },
        "id": "a9oGmXqTzQvA",
        "outputId": "4340e2f3-c112-4315-ce14-3cd5d2eb2691"
      },
      "execution_count": 8,
      "outputs": [
        {
          "output_type": "stream",
          "name": "stdout",
          "text": [
            "[[[1 2 3 4]\n",
            "  [1 2 3 4]\n",
            "  [1 2 3 4]]]\n",
            "3\n"
          ]
        }
      ]
    },
    {
      "cell_type": "code",
      "source": [
        "arn = np.array([1,2,3,4],ndmin = 10)\n",
        "print(arn)\n",
        "print(arn.ndim)"
      ],
      "metadata": {
        "colab": {
          "base_uri": "https://localhost:8080/"
        },
        "id": "37tyvTLizTFZ",
        "outputId": "9e62a0a8-e0b2-4e14-d24e-34fb08b4ff36"
      },
      "execution_count": 9,
      "outputs": [
        {
          "output_type": "stream",
          "name": "stdout",
          "text": [
            "[[[[[[[[[[1 2 3 4]]]]]]]]]]\n",
            "10\n"
          ]
        }
      ]
    },
    {
      "cell_type": "markdown",
      "source": [
        "**FUNCTION**"
      ],
      "metadata": {
        "id": "9nvE1JNYzYLF"
      }
    },
    {
      "cell_type": "code",
      "source": [
        "import numpy as np\n",
        "ar_zero = np.zeros(4)\n",
        "\n",
        "ar_zero1 = np.zeros((3,4))\n",
        "\n",
        "print(ar_zero)\n",
        "print()\n",
        "print(ar_zero1)"
      ],
      "metadata": {
        "colab": {
          "base_uri": "https://localhost:8080/"
        },
        "id": "IjWHx-E-zaFX",
        "outputId": "0129ea04-ff7a-41db-dde5-013bef712fac"
      },
      "execution_count": 10,
      "outputs": [
        {
          "output_type": "stream",
          "name": "stdout",
          "text": [
            "[0. 0. 0. 0.]\n",
            "\n",
            "[[0. 0. 0. 0.]\n",
            " [0. 0. 0. 0.]\n",
            " [0. 0. 0. 0.]]\n"
          ]
        }
      ]
    },
    {
      "cell_type": "code",
      "source": [
        "import numpy as np\n",
        "\n",
        "ar_one = np.ones(4)\n",
        "\n",
        "print(ar_one)"
      ],
      "metadata": {
        "colab": {
          "base_uri": "https://localhost:8080/"
        },
        "id": "TNdVvnS9ze_D",
        "outputId": "1fc015e3-52ad-45f1-92ca-abc942d4a0b0"
      },
      "execution_count": 11,
      "outputs": [
        {
          "output_type": "stream",
          "name": "stdout",
          "text": [
            "[1. 1. 1. 1.]\n"
          ]
        }
      ]
    },
    {
      "cell_type": "code",
      "source": [
        "ar_em = np.empty(4)\n",
        "print(ar_em)"
      ],
      "metadata": {
        "colab": {
          "base_uri": "https://localhost:8080/"
        },
        "id": "Fm6eKnJ-zjgr",
        "outputId": "5238a11a-b554-4a2f-f851-a6a1cb08434c"
      },
      "execution_count": 12,
      "outputs": [
        {
          "output_type": "stream",
          "name": "stdout",
          "text": [
            "[1. 1. 1. 1.]\n"
          ]
        }
      ]
    },
    {
      "cell_type": "code",
      "source": [
        "import numpy as np\n",
        "\n",
        "ar_rn = np.arange(4)\n",
        "print(ar_rn)"
      ],
      "metadata": {
        "colab": {
          "base_uri": "https://localhost:8080/"
        },
        "id": "idVxtTRAzroi",
        "outputId": "c371511c-2881-440d-a76c-7d95d8a01ead"
      },
      "execution_count": 13,
      "outputs": [
        {
          "output_type": "stream",
          "name": "stdout",
          "text": [
            "[0 1 2 3]\n"
          ]
        }
      ]
    },
    {
      "cell_type": "code",
      "source": [
        "ar_dg = np.eye(3)\n",
        "print(ar_dg)"
      ],
      "metadata": {
        "colab": {
          "base_uri": "https://localhost:8080/"
        },
        "id": "1mFSesCjz281",
        "outputId": "3f0d04be-b518-49e2-f9e1-3c061ebb8ff3"
      },
      "execution_count": 14,
      "outputs": [
        {
          "output_type": "stream",
          "name": "stdout",
          "text": [
            "[[1. 0. 0.]\n",
            " [0. 1. 0.]\n",
            " [0. 0. 1.]]\n"
          ]
        }
      ]
    },
    {
      "cell_type": "code",
      "source": [
        "ar_dg = np.eye(3,5)\n",
        "print(ar_dg)"
      ],
      "metadata": {
        "colab": {
          "base_uri": "https://localhost:8080/"
        },
        "id": "RA5fIZZVz5QO",
        "outputId": "aaed94c6-009e-45b3-8e98-91861458224a"
      },
      "execution_count": 15,
      "outputs": [
        {
          "output_type": "stream",
          "name": "stdout",
          "text": [
            "[[1. 0. 0. 0. 0.]\n",
            " [0. 1. 0. 0. 0.]\n",
            " [0. 0. 1. 0. 0.]]\n"
          ]
        }
      ]
    },
    {
      "cell_type": "code",
      "source": [
        "ar_lin = np.linspace(0,20, num = 5)\n",
        "print(ar_lin)"
      ],
      "metadata": {
        "colab": {
          "base_uri": "https://localhost:8080/"
        },
        "id": "W-d3Gf7m0B6b",
        "outputId": "308416fe-525b-4aa2-99d5-c64d809f1ff8"
      },
      "execution_count": 17,
      "outputs": [
        {
          "output_type": "stream",
          "name": "stdout",
          "text": [
            "[ 0.  5. 10. 15. 20.]\n"
          ]
        }
      ]
    },
    {
      "cell_type": "markdown",
      "source": [
        "**RANDOM** **NUMBER**"
      ],
      "metadata": {
        "id": "HBL_HkJ40ZkW"
      }
    },
    {
      "cell_type": "code",
      "source": [
        "import numpy as np\n",
        "\n",
        "var = np.random.rand(4)\n",
        "\n",
        "print(var)"
      ],
      "metadata": {
        "colab": {
          "base_uri": "https://localhost:8080/"
        },
        "id": "oiR5XUl_0J0l",
        "outputId": "9c6f9f55-2719-4400-d5e0-d096abccc377"
      },
      "execution_count": 18,
      "outputs": [
        {
          "output_type": "stream",
          "name": "stdout",
          "text": [
            "[0.87040234 0.98506341 0.88064672 0.93982866]\n"
          ]
        }
      ]
    },
    {
      "cell_type": "code",
      "source": [
        "var1 = np.random.rand(2,5)\n",
        "print(var1)"
      ],
      "metadata": {
        "colab": {
          "base_uri": "https://localhost:8080/"
        },
        "id": "oBZFhlJo0mmK",
        "outputId": "4a5bccb7-86c6-4369-ac1e-ab37c3ddc72b"
      },
      "execution_count": 19,
      "outputs": [
        {
          "output_type": "stream",
          "name": "stdout",
          "text": [
            "[[0.59844668 0.20187078 0.58149245 0.11110054 0.05125015]\n",
            " [0.98242384 0.77931114 0.22261722 0.91664663 0.89942715]]\n"
          ]
        }
      ]
    },
    {
      "cell_type": "code",
      "source": [
        "var2 = np.random.randn(5)\n",
        "print(var2)"
      ],
      "metadata": {
        "colab": {
          "base_uri": "https://localhost:8080/"
        },
        "id": "fgXNG8lo0r8P",
        "outputId": "55b3960b-07dd-419b-ae2c-e1f3e82ee7ef"
      },
      "execution_count": 20,
      "outputs": [
        {
          "output_type": "stream",
          "name": "stdout",
          "text": [
            "[-0.47627612  0.77668234 -0.42409881 -0.02562271  1.58385811]\n"
          ]
        }
      ]
    },
    {
      "cell_type": "code",
      "source": [
        "var3 = np.random.ranf(4)\n",
        "print(var3)"
      ],
      "metadata": {
        "colab": {
          "base_uri": "https://localhost:8080/"
        },
        "id": "skJ1xCze0w0k",
        "outputId": "2278d6d7-50a4-4a1a-badd-1e1c8c821b77"
      },
      "execution_count": 21,
      "outputs": [
        {
          "output_type": "stream",
          "name": "stdout",
          "text": [
            "[0.55330167 0.14373588 0.08389323 0.23587755]\n"
          ]
        }
      ]
    },
    {
      "cell_type": "code",
      "source": [
        "var4 = np.random.randint(5,20,5)\n",
        "print(var4)"
      ],
      "metadata": {
        "colab": {
          "base_uri": "https://localhost:8080/"
        },
        "id": "V_rhAaFo07eV",
        "outputId": "8a812a2b-e650-47f5-c559-459ddb27e209"
      },
      "execution_count": 22,
      "outputs": [
        {
          "output_type": "stream",
          "name": "stdout",
          "text": [
            "[10 19  8 19  7]\n"
          ]
        }
      ]
    },
    {
      "cell_type": "markdown",
      "source": [
        "**DATA** **TYPE**"
      ],
      "metadata": {
        "id": "wtzDlgYg1Tuv"
      }
    },
    {
      "cell_type": "code",
      "source": [
        "import numpy as np\n",
        "\n",
        "var = np.array([1,2,3,4])\n",
        "\n",
        "print(\"Data type: \",var.dtype)"
      ],
      "metadata": {
        "colab": {
          "base_uri": "https://localhost:8080/"
        },
        "id": "brEMsmw_1Rfs",
        "outputId": "4fadad2b-19e5-4539-98a5-2ab3637d7c96"
      },
      "execution_count": 23,
      "outputs": [
        {
          "output_type": "stream",
          "name": "stdout",
          "text": [
            "Data type:  int64\n"
          ]
        }
      ]
    },
    {
      "cell_type": "code",
      "source": [
        "var = np.array([1.0,1.2,1.3])\n",
        "\n",
        "print(\"Data type : \", var.dtype)"
      ],
      "metadata": {
        "colab": {
          "base_uri": "https://localhost:8080/"
        },
        "id": "D-WX1p5T1dHc",
        "outputId": "23a40e9a-6121-433d-86a0-2d234dd1bbf1"
      },
      "execution_count": 24,
      "outputs": [
        {
          "output_type": "stream",
          "name": "stdout",
          "text": [
            "Data type :  float64\n"
          ]
        }
      ]
    },
    {
      "cell_type": "code",
      "source": [
        "var = np.array([\"S\",\"A\",\"B\"])\n",
        "\n",
        "print(\"Data type: \",var.dtype)"
      ],
      "metadata": {
        "colab": {
          "base_uri": "https://localhost:8080/"
        },
        "id": "Sy7rEsh02dt1",
        "outputId": "1a012988-0ae9-4901-d052-42a0a94a6a8c"
      },
      "execution_count": 25,
      "outputs": [
        {
          "output_type": "stream",
          "name": "stdout",
          "text": [
            "Data type:  <U1\n"
          ]
        }
      ]
    },
    {
      "cell_type": "code",
      "source": [
        "var = np.array([\"S\",\"A\",\"B\",1,2,3,4])\n",
        "\n",
        "print(\"Data type: \",var.dtype)"
      ],
      "metadata": {
        "colab": {
          "base_uri": "https://localhost:8080/"
        },
        "id": "JWVtnSaE2lBE",
        "outputId": "a224afd2-ef26-422c-86e2-cb94a981a467"
      },
      "execution_count": 26,
      "outputs": [
        {
          "output_type": "stream",
          "name": "stdout",
          "text": [
            "Data type:  <U21\n"
          ]
        }
      ]
    },
    {
      "cell_type": "code",
      "source": [
        "x = np.array([1,2,3,4],dtype = np.int8)\n",
        "\n",
        "print(x.dtype)"
      ],
      "metadata": {
        "colab": {
          "base_uri": "https://localhost:8080/"
        },
        "id": "-HvSZe5W2s7W",
        "outputId": "53b9592b-de68-436f-dc8b-bfad9cd62598"
      },
      "execution_count": 27,
      "outputs": [
        {
          "output_type": "stream",
          "name": "stdout",
          "text": [
            "int8\n"
          ]
        }
      ]
    },
    {
      "cell_type": "code",
      "source": [
        "x1 = np.array([1,2,3,4],dtype = \"f\")\n",
        "\n",
        "print(x1.dtype)\n",
        "print(x1)"
      ],
      "metadata": {
        "colab": {
          "base_uri": "https://localhost:8080/"
        },
        "id": "tGoaTWAK2yAz",
        "outputId": "3dd44a4d-2d3a-4bb0-e8b3-48df5066337d"
      },
      "execution_count": 28,
      "outputs": [
        {
          "output_type": "stream",
          "name": "stdout",
          "text": [
            "float32\n",
            "[1. 2. 3. 4.]\n"
          ]
        }
      ]
    },
    {
      "cell_type": "code",
      "source": [
        "x2 = np.array([1,2,3,4])\n",
        "\n",
        "new = np.float32(x2)\n",
        "\n",
        "new_one = np.int_(new)\n",
        "\n",
        "print(x2.dtype)\n",
        "print(new.dtype)\n",
        "print(new_one.dtype)\n",
        "print(x2)\n",
        "print(new)\n",
        "print(new_one)"
      ],
      "metadata": {
        "colab": {
          "base_uri": "https://localhost:8080/"
        },
        "id": "cYjYKXF322xd",
        "outputId": "b5381721-913a-4b06-b5fe-53a18cb6946f"
      },
      "execution_count": 29,
      "outputs": [
        {
          "output_type": "stream",
          "name": "stdout",
          "text": [
            "int64\n",
            "float32\n",
            "int64\n",
            "[1 2 3 4]\n",
            "[1. 2. 3. 4.]\n",
            "[1 2 3 4]\n"
          ]
        }
      ]
    },
    {
      "cell_type": "code",
      "source": [
        "x3 = np.array([1,2,3,4])\n",
        "\n",
        "new_1 = x3.astype(float)\n",
        "\n",
        "print(x3)\n",
        "print(new_1)"
      ],
      "metadata": {
        "colab": {
          "base_uri": "https://localhost:8080/"
        },
        "id": "TaGm3Ji328N3",
        "outputId": "b1f98910-f196-4e9d-c466-df3f0e8a04a6"
      },
      "execution_count": 30,
      "outputs": [
        {
          "output_type": "stream",
          "name": "stdout",
          "text": [
            "[1 2 3 4]\n",
            "[1. 2. 3. 4.]\n"
          ]
        }
      ]
    },
    {
      "cell_type": "markdown",
      "source": [
        "**ARITHMETIC** **OPERATION**"
      ],
      "metadata": {
        "id": "LgjBdrqT3FHb"
      }
    },
    {
      "cell_type": "code",
      "source": [
        "import numpy as np\n",
        "\n",
        "var = np.array([1,2,3,4])\n",
        "\n",
        "varadd = var + 3\n",
        "\n",
        "print(varadd)"
      ],
      "metadata": {
        "colab": {
          "base_uri": "https://localhost:8080/"
        },
        "id": "_OplzBsf3CaT",
        "outputId": "28e46ee3-370d-47f9-b4ba-32e01b58d6b6"
      },
      "execution_count": 31,
      "outputs": [
        {
          "output_type": "stream",
          "name": "stdout",
          "text": [
            "[4 5 6 7]\n"
          ]
        }
      ]
    },
    {
      "cell_type": "code",
      "source": [
        "var1 = np.array([1,2,3,4])\n",
        "var2 = np.array([1,2,3,4])\n",
        "\n",
        "varadd = var1 + var2\n",
        "\n",
        "print(varadd)"
      ],
      "metadata": {
        "colab": {
          "base_uri": "https://localhost:8080/"
        },
        "id": "uwZyk2rd3UIH",
        "outputId": "c0783929-288f-47b4-f70d-5bbba4692ec8"
      },
      "execution_count": 32,
      "outputs": [
        {
          "output_type": "stream",
          "name": "stdout",
          "text": [
            "[2 4 6 8]\n"
          ]
        }
      ]
    },
    {
      "cell_type": "code",
      "source": [
        "var1 = np.array([1,2,3,4])\n",
        "var2 = np.array([1,2,3,4])\n",
        "\n",
        "varadd = np.add(var1,var2)\n",
        "\n",
        "print(varadd)"
      ],
      "metadata": {
        "colab": {
          "base_uri": "https://localhost:8080/"
        },
        "id": "nOVUVbq43dWo",
        "outputId": "8d49b04f-962a-4c6c-a00b-3cd723835fcd"
      },
      "execution_count": 33,
      "outputs": [
        {
          "output_type": "stream",
          "name": "stdout",
          "text": [
            "[2 4 6 8]\n"
          ]
        }
      ]
    },
    {
      "cell_type": "code",
      "source": [
        "var = np.array([1,2,3,4])\n",
        "\n",
        "varadd = var - 3\n",
        "\n",
        "print(varadd)"
      ],
      "metadata": {
        "colab": {
          "base_uri": "https://localhost:8080/"
        },
        "id": "OSR9JD8v3jBg",
        "outputId": "2f113092-e563-4273-8de7-9ca171907d7b"
      },
      "execution_count": 34,
      "outputs": [
        {
          "output_type": "stream",
          "name": "stdout",
          "text": [
            "[-2 -1  0  1]\n"
          ]
        }
      ]
    },
    {
      "cell_type": "code",
      "source": [
        "var = np.array([1,2,3,4])\n",
        "\n",
        "varadd = var * 3\n",
        "\n",
        "print(varadd)"
      ],
      "metadata": {
        "colab": {
          "base_uri": "https://localhost:8080/"
        },
        "id": "8tGa4L433ojT",
        "outputId": "0a30bab7-54c8-4838-a001-536e632af786"
      },
      "execution_count": 35,
      "outputs": [
        {
          "output_type": "stream",
          "name": "stdout",
          "text": [
            "[ 3  6  9 12]\n"
          ]
        }
      ]
    },
    {
      "cell_type": "code",
      "source": [
        "var = np.array([1,2,3,4])\n",
        "\n",
        "varadd = var / 3\n",
        "\n",
        "print(varadd)"
      ],
      "metadata": {
        "colab": {
          "base_uri": "https://localhost:8080/"
        },
        "id": "TfEpiqv_3tTV",
        "outputId": "c30db4ff-7b91-4417-d758-f250f9f0caac"
      },
      "execution_count": 36,
      "outputs": [
        {
          "output_type": "stream",
          "name": "stdout",
          "text": [
            "[0.33333333 0.66666667 1.         1.33333333]\n"
          ]
        }
      ]
    },
    {
      "cell_type": "code",
      "source": [
        "var = np.array([1,2,3,4])\n",
        "\n",
        "varadd = var % 3\n",
        "\n",
        "print(varadd)"
      ],
      "metadata": {
        "colab": {
          "base_uri": "https://localhost:8080/"
        },
        "id": "Z4F-ygZ33yZw",
        "outputId": "73569507-26d3-42a9-8b96-f92e924a9982"
      },
      "execution_count": 37,
      "outputs": [
        {
          "output_type": "stream",
          "name": "stdout",
          "text": [
            "[1 2 0 1]\n"
          ]
        }
      ]
    },
    {
      "cell_type": "code",
      "source": [
        "var = np.array([1,2,3,4])\n",
        "\n",
        "varadd = np.reciprocal(var)\n",
        "\n",
        "print(varadd)"
      ],
      "metadata": {
        "colab": {
          "base_uri": "https://localhost:8080/"
        },
        "id": "F9TUNyvl3yms",
        "outputId": "7b28a6cd-c48e-4299-b2b3-c9d4eb75a256"
      },
      "execution_count": 38,
      "outputs": [
        {
          "output_type": "stream",
          "name": "stdout",
          "text": [
            "[1 0 0 0]\n"
          ]
        }
      ]
    },
    {
      "cell_type": "markdown",
      "source": [
        "**2D** **ARRAY** **OPERATION**"
      ],
      "metadata": {
        "id": "LXiaKpYC380c"
      }
    },
    {
      "cell_type": "code",
      "source": [
        "var21 = np.array([[1,2,3,4],[1,2,3,4]])\n",
        "var22 = np.array([[1,2,3,4],[1,2,3,4]])\n",
        "\n",
        "print(var21)\n",
        "print()\n",
        "print(var22)\n",
        "print()\n",
        "varadd2 = var21 + var22\n",
        "\n",
        "print(varadd2)"
      ],
      "metadata": {
        "colab": {
          "base_uri": "https://localhost:8080/"
        },
        "id": "p0DIEXFq4F_6",
        "outputId": "e04c8884-7563-4c62-b2d6-b50a076e09d2"
      },
      "execution_count": 39,
      "outputs": [
        {
          "output_type": "stream",
          "name": "stdout",
          "text": [
            "[[1 2 3 4]\n",
            " [1 2 3 4]]\n",
            "\n",
            "[[1 2 3 4]\n",
            " [1 2 3 4]]\n",
            "\n",
            "[[2 4 6 8]\n",
            " [2 4 6 8]]\n"
          ]
        }
      ]
    },
    {
      "cell_type": "markdown",
      "source": [
        "**ARITHMETIC** **FUNCTION**"
      ],
      "metadata": {
        "id": "o1UoixMe4KkZ"
      }
    },
    {
      "cell_type": "code",
      "source": [
        "import numpy as np\n",
        "\n",
        "var = np.array([1,2,3,4,5,3,2])\n",
        "\n",
        "print(np.min(var),np.argmin(var))\n",
        "print(np.max(var),np.argmax(var))\n",
        "print(np.sqrt(var))"
      ],
      "metadata": {
        "colab": {
          "base_uri": "https://localhost:8080/"
        },
        "id": "tQm_4jHQ4SH4",
        "outputId": "8469c51d-c7ac-4516-a0f2-c5b51d5b9f91"
      },
      "execution_count": 40,
      "outputs": [
        {
          "output_type": "stream",
          "name": "stdout",
          "text": [
            "1 0\n",
            "5 4\n",
            "[1.         1.41421356 1.73205081 2.         2.23606798 1.73205081\n",
            " 1.41421356]\n"
          ]
        }
      ]
    },
    {
      "cell_type": "code",
      "source": [
        "var1 = np.array([[2,1,3],[9,5,6]])\n",
        "\n",
        "print(np.min(var1,axis=0))"
      ],
      "metadata": {
        "colab": {
          "base_uri": "https://localhost:8080/"
        },
        "id": "Xp9Kg7oP4eCc",
        "outputId": "7a0d4d52-711e-4a0d-e3c2-cbcaea1d0472"
      },
      "execution_count": 41,
      "outputs": [
        {
          "output_type": "stream",
          "name": "stdout",
          "text": [
            "[2 1 3]\n"
          ]
        }
      ]
    },
    {
      "cell_type": "code",
      "source": [
        "var2 = np.array([1,2,3])\n",
        "\n",
        "print(np.sin(var2))\n",
        "print(np.cos(var2))\n",
        "print(np.cumsum(var2))"
      ],
      "metadata": {
        "colab": {
          "base_uri": "https://localhost:8080/"
        },
        "id": "XOLnEfW14fTb",
        "outputId": "468aef91-8664-4389-9612-81f0c61f7ad8"
      },
      "execution_count": 42,
      "outputs": [
        {
          "output_type": "stream",
          "name": "stdout",
          "text": [
            "[0.84147098 0.90929743 0.14112001]\n",
            "[ 0.54030231 -0.41614684 -0.9899925 ]\n",
            "[1 3 6]\n"
          ]
        }
      ]
    },
    {
      "cell_type": "markdown",
      "source": [
        "**SHAPE**"
      ],
      "metadata": {
        "id": "PQ4QYY6v4lg3"
      }
    },
    {
      "cell_type": "code",
      "source": [
        "import numpy as np\n",
        "\n",
        "var = np.array([[1,2],[1,2]])\n",
        "\n",
        "print(var)\n",
        "print()\n",
        "print(var.shape)"
      ],
      "metadata": {
        "colab": {
          "base_uri": "https://localhost:8080/"
        },
        "id": "BpFE_9-_4tI0",
        "outputId": "e00722cb-9d23-4972-9e43-889481efa5d9"
      },
      "execution_count": 43,
      "outputs": [
        {
          "output_type": "stream",
          "name": "stdout",
          "text": [
            "[[1 2]\n",
            " [1 2]]\n",
            "\n",
            "(2, 2)\n"
          ]
        }
      ]
    },
    {
      "cell_type": "code",
      "source": [
        "var1 = np.array([1,2,3,4], ndmin=4)\n",
        "\n",
        "print(var1)\n",
        "print(var1.ndim)\n",
        "print()\n",
        "print(var1.shape)"
      ],
      "metadata": {
        "colab": {
          "base_uri": "https://localhost:8080/"
        },
        "id": "MIfZs3Dj4yFq",
        "outputId": "4ddd3cd8-d839-4c49-f712-215459e87374"
      },
      "execution_count": 44,
      "outputs": [
        {
          "output_type": "stream",
          "name": "stdout",
          "text": [
            "[[[[1 2 3 4]]]]\n",
            "4\n",
            "\n",
            "(1, 1, 1, 4)\n"
          ]
        }
      ]
    },
    {
      "cell_type": "markdown",
      "source": [
        "**RESHAPE**"
      ],
      "metadata": {
        "id": "qFA5nzza47Kq"
      }
    },
    {
      "cell_type": "code",
      "source": [
        "var2 = np.array([1,2,3,4,5,6])\n",
        "print(var2)\n",
        "\n",
        "print(var2.ndim)\n",
        "print()\n",
        "x = var2.reshape(3,2)\n",
        "\n",
        "print(x)\n",
        "print(x.ndim)"
      ],
      "metadata": {
        "colab": {
          "base_uri": "https://localhost:8080/"
        },
        "id": "x8YIGrGB4-jy",
        "outputId": "9cd036ff-e275-43de-fb4e-57c85e87c383"
      },
      "execution_count": 45,
      "outputs": [
        {
          "output_type": "stream",
          "name": "stdout",
          "text": [
            "[1 2 3 4 5 6]\n",
            "1\n",
            "\n",
            "[[1 2]\n",
            " [3 4]\n",
            " [5 6]]\n",
            "2\n"
          ]
        }
      ]
    },
    {
      "cell_type": "code",
      "source": [
        "var3 = np.array([1,2,3,4,5,6,7,8,9,10,11,12])\n",
        "print(var3)\n",
        "print(var2.ndim)\n",
        "\n",
        "print()\n",
        "\n",
        "x1 = var3.reshape(2,3,2)\n",
        "\n",
        "print(x1)\n",
        "print(x1.ndim)\n",
        "\n",
        "\n",
        "print()\n",
        "\n",
        "one = x1.reshape(-1)\n",
        "print(one)\n",
        "print(one.ndim)"
      ],
      "metadata": {
        "colab": {
          "base_uri": "https://localhost:8080/"
        },
        "id": "lPl1ZOG45C5v",
        "outputId": "2b3cd2fa-be95-4016-d4ba-a7a9d6415831"
      },
      "execution_count": 46,
      "outputs": [
        {
          "output_type": "stream",
          "name": "stdout",
          "text": [
            "[ 1  2  3  4  5  6  7  8  9 10 11 12]\n",
            "1\n",
            "\n",
            "[[[ 1  2]\n",
            "  [ 3  4]\n",
            "  [ 5  6]]\n",
            "\n",
            " [[ 7  8]\n",
            "  [ 9 10]\n",
            "  [11 12]]]\n",
            "3\n",
            "\n",
            "[ 1  2  3  4  5  6  7  8  9 10 11 12]\n",
            "1\n"
          ]
        }
      ]
    },
    {
      "cell_type": "markdown",
      "source": [
        "**BROADCASTING**"
      ],
      "metadata": {
        "id": "1GkmOeCR5H7v"
      }
    },
    {
      "cell_type": "code",
      "source": [
        "import numpy as np\n",
        "\n",
        "var1 = np.array([1,2,3])\n",
        "print(var1.shape)\n",
        "print()\n",
        "print(var1)\n",
        "print()\n",
        "\n",
        "var2 = np.array([[1],[2],[3]])\n",
        "print(var2.shape)\n",
        "print()\n",
        "print(var2)\n",
        "print()\n",
        "\n",
        "print(var1 + var2)"
      ],
      "metadata": {
        "colab": {
          "base_uri": "https://localhost:8080/"
        },
        "id": "o-HKyFHj5Lyj",
        "outputId": "05962102-9999-43a0-cb2d-ee2de91dbfbe"
      },
      "execution_count": 47,
      "outputs": [
        {
          "output_type": "stream",
          "name": "stdout",
          "text": [
            "(3,)\n",
            "\n",
            "[1 2 3]\n",
            "\n",
            "(3, 1)\n",
            "\n",
            "[[1]\n",
            " [2]\n",
            " [3]]\n",
            "\n",
            "[[2 3 4]\n",
            " [3 4 5]\n",
            " [4 5 6]]\n"
          ]
        }
      ]
    },
    {
      "cell_type": "code",
      "source": [
        "x = np.array([[1],[2]])\n",
        "print(x.shape)\n",
        "\n",
        "y = np.array([[1,2,3],[1,2,3]])\n",
        "print(y.shape)\n",
        "\n",
        "print(x+y)"
      ],
      "metadata": {
        "colab": {
          "base_uri": "https://localhost:8080/"
        },
        "id": "NEbjp12Y5UVl",
        "outputId": "deb5e2ab-9ef0-4429-8a15-70bf26e66c68"
      },
      "execution_count": 48,
      "outputs": [
        {
          "output_type": "stream",
          "name": "stdout",
          "text": [
            "(2, 1)\n",
            "(2, 3)\n",
            "[[2 3 4]\n",
            " [3 4 5]]\n"
          ]
        }
      ]
    },
    {
      "cell_type": "markdown",
      "source": [
        "**INDEXING**"
      ],
      "metadata": {
        "id": "I23vlN7d5uZS"
      }
    },
    {
      "cell_type": "code",
      "source": [
        "import numpy as np\n",
        "\n",
        "var = np.array([9,8,7,6])\n",
        "\n",
        "print(var[1])"
      ],
      "metadata": {
        "colab": {
          "base_uri": "https://localhost:8080/"
        },
        "id": "IHoTsNvH5zmL",
        "outputId": "61bf4008-ca8e-4a0c-e18c-7d9121cd12bb"
      },
      "execution_count": 49,
      "outputs": [
        {
          "output_type": "stream",
          "name": "stdout",
          "text": [
            "8\n"
          ]
        }
      ]
    },
    {
      "cell_type": "code",
      "source": [
        "var1 = np.array([[9,8,7],[4,5,6]])\n",
        "\n",
        "print(var1)\n",
        "print(var1.ndim)\n",
        "\n",
        "print()\n",
        "\n",
        "print(var1[0,2])"
      ],
      "metadata": {
        "colab": {
          "base_uri": "https://localhost:8080/"
        },
        "id": "mOUtCC0Z56OR",
        "outputId": "13a465c1-ef08-4cc6-f314-e6530f190df7"
      },
      "execution_count": 50,
      "outputs": [
        {
          "output_type": "stream",
          "name": "stdout",
          "text": [
            "[[9 8 7]\n",
            " [4 5 6]]\n",
            "2\n",
            "\n",
            "7\n"
          ]
        }
      ]
    },
    {
      "cell_type": "code",
      "source": [
        "var2 = np.array([[[1,2],[6,7]]])\n",
        "\n",
        "print(var2)\n",
        "\n",
        "print(var2.ndim)\n",
        "print()\n",
        "\n",
        "print(var2[0,1,1])"
      ],
      "metadata": {
        "colab": {
          "base_uri": "https://localhost:8080/"
        },
        "id": "LRX1cO1e5-Gd",
        "outputId": "fbe3c39c-7c3d-40ca-889f-703d198cb8b7"
      },
      "execution_count": 51,
      "outputs": [
        {
          "output_type": "stream",
          "name": "stdout",
          "text": [
            "[[[1 2]\n",
            "  [6 7]]]\n",
            "3\n",
            "\n",
            "7\n"
          ]
        }
      ]
    },
    {
      "cell_type": "markdown",
      "source": [
        "**SLICING**"
      ],
      "metadata": {
        "id": "7Eszyc-46C2A"
      }
    },
    {
      "cell_type": "code",
      "source": [
        "import numpy as np\n",
        "\n",
        "var = np.array([9,8,7,6,5,4,3])\n",
        "\n",
        "print(var)\n",
        "print()\n",
        "print(\"2 to 5\", var[1:5])\n",
        "\n",
        "print(\"2 to end\", var[1:])\n",
        "\n",
        "print(\"start to 5\", var[:5])\n",
        "\n",
        "print(\"stop : \", var[::2])"
      ],
      "metadata": {
        "colab": {
          "base_uri": "https://localhost:8080/"
        },
        "id": "robn8y_p6FfW",
        "outputId": "9157b9a9-3b79-41f0-b7aa-360dd1eb7a09"
      },
      "execution_count": 52,
      "outputs": [
        {
          "output_type": "stream",
          "name": "stdout",
          "text": [
            "[9 8 7 6 5 4 3]\n",
            "\n",
            "2 to 5 [8 7 6 5]\n",
            "2 to end [8 7 6 5 4 3]\n",
            "start to 5 [9 8 7 6 5]\n",
            "stop :  [9 7 5 3]\n"
          ]
        }
      ]
    },
    {
      "cell_type": "code",
      "source": [
        "var1 = np.array([[1,2,3,4,5],[9,8,7,6,5],[11,12,13,14,15]])\n",
        "\n",
        "print(var1)\n",
        "\n",
        "print()\n",
        "\n",
        "print(\"8 to 5\", var1[2,1:])"
      ],
      "metadata": {
        "colab": {
          "base_uri": "https://localhost:8080/"
        },
        "id": "hOCoCoF16JaI",
        "outputId": "25638495-787a-4735-9d48-f2dd5592d4c2"
      },
      "execution_count": 53,
      "outputs": [
        {
          "output_type": "stream",
          "name": "stdout",
          "text": [
            "[[ 1  2  3  4  5]\n",
            " [ 9  8  7  6  5]\n",
            " [11 12 13 14 15]]\n",
            "\n",
            "8 to 5 [12 13 14 15]\n"
          ]
        }
      ]
    },
    {
      "cell_type": "markdown",
      "source": [
        "**ITERATION**"
      ],
      "metadata": {
        "id": "4sCdZGtq6PyZ"
      }
    },
    {
      "cell_type": "code",
      "source": [
        "import numpy as np\n",
        "\n",
        "var = np.array([9,8,7,6,5,4])\n",
        "print(var)\n",
        "print()\n",
        "for i in var:\n",
        "  print(i)"
      ],
      "metadata": {
        "colab": {
          "base_uri": "https://localhost:8080/"
        },
        "id": "rvUoU9Tv6N3W",
        "outputId": "af5c93ec-031d-4614-eb7e-cf598e6226a9"
      },
      "execution_count": 54,
      "outputs": [
        {
          "output_type": "stream",
          "name": "stdout",
          "text": [
            "[9 8 7 6 5 4]\n",
            "\n",
            "9\n",
            "8\n",
            "7\n",
            "6\n",
            "5\n",
            "4\n"
          ]
        }
      ]
    },
    {
      "cell_type": "code",
      "source": [
        "var1 = np.array([[1,2,3,4],[1,2,3,4]])\n",
        "print(var1)\n",
        "print()\n",
        "for j in var1:\n",
        "  print(j)\n",
        "print()\n",
        "\n",
        "for k in var1:\n",
        "  for l in k:\n",
        "    print(l)"
      ],
      "metadata": {
        "colab": {
          "base_uri": "https://localhost:8080/"
        },
        "id": "WsA-2cfQ6XA3",
        "outputId": "a510e913-646a-4d8e-b0cf-e0908cc9880c"
      },
      "execution_count": 55,
      "outputs": [
        {
          "output_type": "stream",
          "name": "stdout",
          "text": [
            "[[1 2 3 4]\n",
            " [1 2 3 4]]\n",
            "\n",
            "[1 2 3 4]\n",
            "[1 2 3 4]\n",
            "\n",
            "1\n",
            "2\n",
            "3\n",
            "4\n",
            "1\n",
            "2\n",
            "3\n",
            "4\n"
          ]
        }
      ]
    },
    {
      "cell_type": "code",
      "source": [
        "var3 = np.array([[[9,8,7,6],[1,2,3,4]]])\n",
        "\n",
        "print(var3)\n",
        "print(var3.ndim)\n",
        "print()\n",
        "\n",
        "for i in np.nditer(var3):\n",
        "  print(i)"
      ],
      "metadata": {
        "colab": {
          "base_uri": "https://localhost:8080/"
        },
        "id": "5y9cauts6b7W",
        "outputId": "43334be8-ad4c-4277-c16f-ae9d1161a765"
      },
      "execution_count": 56,
      "outputs": [
        {
          "output_type": "stream",
          "name": "stdout",
          "text": [
            "[[[9 8 7 6]\n",
            "  [1 2 3 4]]]\n",
            "3\n",
            "\n",
            "9\n",
            "8\n",
            "7\n",
            "6\n",
            "1\n",
            "2\n",
            "3\n",
            "4\n"
          ]
        }
      ]
    },
    {
      "cell_type": "code",
      "source": [
        "var3 = np.array([[[9,8,7,6],[1,2,3,4]]])\n",
        "\n",
        "print(var3)\n",
        "print(var3.ndim)\n",
        "print()\n",
        "\n",
        "for i,d in np.ndenumerate(var3):\n",
        "  print(i,d)"
      ],
      "metadata": {
        "colab": {
          "base_uri": "https://localhost:8080/"
        },
        "id": "9CSxKyke6gH1",
        "outputId": "8c86df5c-ea27-4f22-aea7-846689d8dbe2"
      },
      "execution_count": 57,
      "outputs": [
        {
          "output_type": "stream",
          "name": "stdout",
          "text": [
            "[[[9 8 7 6]\n",
            "  [1 2 3 4]]]\n",
            "3\n",
            "\n",
            "(0, 0, 0) 9\n",
            "(0, 0, 1) 8\n",
            "(0, 0, 2) 7\n",
            "(0, 0, 3) 6\n",
            "(0, 1, 0) 1\n",
            "(0, 1, 1) 2\n",
            "(0, 1, 2) 3\n",
            "(0, 1, 3) 4\n"
          ]
        }
      ]
    },
    {
      "cell_type": "markdown",
      "source": [
        "**COPY** **AND** **VIEW**"
      ],
      "metadata": {
        "id": "02Bmkaqo6n1r"
      }
    },
    {
      "cell_type": "code",
      "source": [
        "import numpy as np\n",
        "\n",
        "var = np.array([1,2,3,4])\n",
        "\n",
        "co = var.copy()\n",
        "var[1]=40\n",
        "print(\"var:\",var)\n",
        "print(\"copy:\",co)"
      ],
      "metadata": {
        "colab": {
          "base_uri": "https://localhost:8080/"
        },
        "id": "_qocn0I26wu9",
        "outputId": "cb3949dd-93b5-4752-b712-94133b739c49"
      },
      "execution_count": 58,
      "outputs": [
        {
          "output_type": "stream",
          "name": "stdout",
          "text": [
            "var: [ 1 40  3  4]\n",
            "copy: [1 2 3 4]\n"
          ]
        }
      ]
    },
    {
      "cell_type": "code",
      "source": [
        "x = np.array([9,8,7,6,5])\n",
        "\n",
        "vi = x.view()\n",
        "x[1]=40\n",
        "print(\"x:\",x)\n",
        "print(\"vi:\",vi)"
      ],
      "metadata": {
        "colab": {
          "base_uri": "https://localhost:8080/"
        },
        "id": "-IF8j3zA61P9",
        "outputId": "9b6a82e4-397d-4da9-8056-21c303c03526"
      },
      "execution_count": 59,
      "outputs": [
        {
          "output_type": "stream",
          "name": "stdout",
          "text": [
            "x: [ 9 40  7  6  5]\n",
            "vi: [ 9 40  7  6  5]\n"
          ]
        }
      ]
    },
    {
      "cell_type": "markdown",
      "source": [
        "**JOINING**"
      ],
      "metadata": {
        "id": "GG_21OoI69zE"
      }
    },
    {
      "cell_type": "code",
      "source": [
        "import numpy as np\n",
        "\n",
        "var = np.array([1,2,3,4])\n",
        "var1 = np.array([9,8,7,6])\n",
        "\n",
        "ar = np.concatenate((var,var1))\n",
        "\n",
        "print(ar)"
      ],
      "metadata": {
        "colab": {
          "base_uri": "https://localhost:8080/"
        },
        "id": "RuK4ItB27CKr",
        "outputId": "e05a6019-a537-4a5d-a898-a8311b430175"
      },
      "execution_count": 60,
      "outputs": [
        {
          "output_type": "stream",
          "name": "stdout",
          "text": [
            "[1 2 3 4 9 8 7 6]\n"
          ]
        }
      ]
    },
    {
      "cell_type": "code",
      "source": [
        "from numpy.lib.twodim_base import vander\n",
        "\n",
        "vr = np.array([[1,2],[3,4]])\n",
        "vr1 = np.array([[9,8],[7,6]])\n",
        "\n",
        "ar_new = np.concatenate((vr,vr1),axis=1)\n",
        "\n",
        "\n",
        "print(vr)\n",
        "print()\n",
        "print(vr1)\n",
        "print()\n",
        "print(ar_new)"
      ],
      "metadata": {
        "colab": {
          "base_uri": "https://localhost:8080/"
        },
        "id": "3Hroacx57HW7",
        "outputId": "ce0b1d60-7c13-4e91-ff88-b77ca6d6e376"
      },
      "execution_count": 61,
      "outputs": [
        {
          "output_type": "stream",
          "name": "stdout",
          "text": [
            "[[1 2]\n",
            " [3 4]]\n",
            "\n",
            "[[9 8]\n",
            " [7 6]]\n",
            "\n",
            "[[1 2 9 8]\n",
            " [3 4 7 6]]\n"
          ]
        }
      ]
    },
    {
      "cell_type": "code",
      "source": [
        "var_1 = np.array([1,2,3,4])\n",
        "var_2 = np.array([9,8,7,6])\n",
        "\n",
        "a_new = np.stack((var_1,var_2),axis=1)\n",
        "a_new1 = np.hstack((var_1,var_2)) #row\n",
        "a_new2 = np.vstack((var_1,var_2)) #column\n",
        "a_new3 = np.dstack((var_1,var_2)) # height\n",
        "\n",
        "print(a_new)\n",
        "print()\n",
        "print(a_new1)\n",
        "print()\n",
        "print(a_new2)\n",
        "print()\n",
        "print(a_new3)"
      ],
      "metadata": {
        "colab": {
          "base_uri": "https://localhost:8080/"
        },
        "id": "tJv4ElJw7L8i",
        "outputId": "4e2f7317-4a46-41d4-ec67-e31c3244842f"
      },
      "execution_count": 62,
      "outputs": [
        {
          "output_type": "stream",
          "name": "stdout",
          "text": [
            "[[1 9]\n",
            " [2 8]\n",
            " [3 7]\n",
            " [4 6]]\n",
            "\n",
            "[1 2 3 4 9 8 7 6]\n",
            "\n",
            "[[1 2 3 4]\n",
            " [9 8 7 6]]\n",
            "\n",
            "[[[1 9]\n",
            "  [2 8]\n",
            "  [3 7]\n",
            "  [4 6]]]\n"
          ]
        }
      ]
    },
    {
      "cell_type": "markdown",
      "source": [
        "**SPLITING**"
      ],
      "metadata": {
        "id": "kdzh4_7A7Q70"
      }
    },
    {
      "cell_type": "code",
      "source": [
        "import numpy as np\n",
        "\n",
        "var = np.array([1,2,3,4,5,6])\n",
        "\n",
        "print(var)\n",
        "\n",
        "ar = np.array_split(var,3)\n",
        "print()\n",
        "print(ar)\n",
        "print(ar[0])"
      ],
      "metadata": {
        "colab": {
          "base_uri": "https://localhost:8080/"
        },
        "id": "O2Yh3viD7TIg",
        "outputId": "2375fa70-13bc-4355-83d5-a9125af2402f"
      },
      "execution_count": 63,
      "outputs": [
        {
          "output_type": "stream",
          "name": "stdout",
          "text": [
            "[1 2 3 4 5 6]\n",
            "\n",
            "[array([1, 2]), array([3, 4]), array([5, 6])]\n",
            "[1 2]\n"
          ]
        }
      ]
    },
    {
      "cell_type": "code",
      "source": [
        "var1 = np.array([[1,2],[3,4],[5,6]])\n",
        "\n",
        "print(var)\n",
        "\n",
        "ar1 = np.array_split(var1,3)\n",
        "ar2 = np.array_split(var1,3,axis=1)\n",
        "print()\n",
        "print(ar1)\n",
        "print()\n",
        "print(ar2)"
      ],
      "metadata": {
        "colab": {
          "base_uri": "https://localhost:8080/"
        },
        "id": "m1BqOz0i7Xf1",
        "outputId": "0178e0f3-0621-4f6e-880b-826c62369e11"
      },
      "execution_count": 64,
      "outputs": [
        {
          "output_type": "stream",
          "name": "stdout",
          "text": [
            "[1 2 3 4 5 6]\n",
            "\n",
            "[array([[1, 2]]), array([[3, 4]]), array([[5, 6]])]\n",
            "\n",
            "[array([[1],\n",
            "       [3],\n",
            "       [5]]), array([[2],\n",
            "       [4],\n",
            "       [6]]), array([], shape=(3, 0), dtype=int64)]\n"
          ]
        }
      ]
    },
    {
      "cell_type": "markdown",
      "source": [
        "**SEARCH**"
      ],
      "metadata": {
        "id": "vd7jVsMG7bHY"
      }
    },
    {
      "cell_type": "code",
      "source": [
        "import numpy as np\n",
        "\n",
        "var = np.array([4,2,3,4,2,5,2,5,6,7])\n",
        "\n",
        "x = np.where((var%2) == 0)\n",
        "\n",
        "print(x)"
      ],
      "metadata": {
        "colab": {
          "base_uri": "https://localhost:8080/"
        },
        "id": "VL031Fcb7c5g",
        "outputId": "12afc23a-b2a2-4b27-f9ad-c2064a5a758b"
      },
      "execution_count": 65,
      "outputs": [
        {
          "output_type": "stream",
          "name": "stdout",
          "text": [
            "(array([0, 1, 3, 4, 6, 8]),)\n"
          ]
        }
      ]
    },
    {
      "cell_type": "code",
      "source": [
        "var1 = np.array([1,2,3,4,9,10])\n",
        "\n",
        "x1 = np.searchsorted(var1,[5,6,7],side =\"right\")\n",
        "\n",
        "print(x1)"
      ],
      "metadata": {
        "colab": {
          "base_uri": "https://localhost:8080/"
        },
        "id": "C4W6IK347mFn",
        "outputId": "d1e7d0c9-1321-433d-df34-df905581766b"
      },
      "execution_count": 66,
      "outputs": [
        {
          "output_type": "stream",
          "name": "stdout",
          "text": [
            "[4 4 4]\n"
          ]
        }
      ]
    },
    {
      "cell_type": "markdown",
      "source": [
        "**SORT**"
      ],
      "metadata": {
        "id": "vYxLOVny7q2g"
      }
    },
    {
      "cell_type": "code",
      "source": [
        "var_1 = np.array([4,2,3,1,12,5,22,52,6,7])\n",
        "\n",
        "print(np.sort(var_1))"
      ],
      "metadata": {
        "colab": {
          "base_uri": "https://localhost:8080/"
        },
        "id": "Vp2WdH8b7tT3",
        "outputId": "8af9d6cb-a922-4d7e-8629-071a2f0b5bcf"
      },
      "execution_count": 67,
      "outputs": [
        {
          "output_type": "stream",
          "name": "stdout",
          "text": [
            "[ 1  2  3  4  5  6  7 12 22 52]\n"
          ]
        }
      ]
    },
    {
      "cell_type": "code",
      "source": [
        "var_1 = np.array([\"a\",\"s\",\"d\",\"f\"])\n",
        "\n",
        "print(np.sort(var_1))"
      ],
      "metadata": {
        "colab": {
          "base_uri": "https://localhost:8080/"
        },
        "id": "e9_3En4T7yaL",
        "outputId": "1a9d62f5-f591-48a0-fd51-ed13b43f9756"
      },
      "execution_count": 68,
      "outputs": [
        {
          "output_type": "stream",
          "name": "stdout",
          "text": [
            "['a' 'd' 'f' 's']\n"
          ]
        }
      ]
    },
    {
      "cell_type": "code",
      "source": [
        "var_1 = np.array([[4,2,3],[1,12,5],[22,52,6]])\n",
        "\n",
        "print(np.sort(var_1))"
      ],
      "metadata": {
        "colab": {
          "base_uri": "https://localhost:8080/"
        },
        "id": "caKbAdmz72Y8",
        "outputId": "277bd5ae-8c1b-4990-fc1a-60d4e6005ea2"
      },
      "execution_count": 69,
      "outputs": [
        {
          "output_type": "stream",
          "name": "stdout",
          "text": [
            "[[ 2  3  4]\n",
            " [ 1  5 12]\n",
            " [ 6 22 52]]\n"
          ]
        }
      ]
    },
    {
      "cell_type": "markdown",
      "source": [
        "**FILTER**"
      ],
      "metadata": {
        "id": "09GVPW2t76OT"
      }
    },
    {
      "cell_type": "code",
      "source": [
        "import numpy as np\n",
        "\n",
        "var_3 = np.array([\"a\",\"s\",\"d\",\"f\"])\n",
        "\n",
        "f =[True ,False,False, True]\n",
        "\n",
        "new_a = var_3[f]\n",
        "\n",
        "print(new_a)\n",
        "print(type(new_a))"
      ],
      "metadata": {
        "colab": {
          "base_uri": "https://localhost:8080/"
        },
        "id": "0OAJI4-j78bh",
        "outputId": "db0b75ea-7849-4bba-a43f-d71cdb6386c9"
      },
      "execution_count": 70,
      "outputs": [
        {
          "output_type": "stream",
          "name": "stdout",
          "text": [
            "['a' 'f']\n",
            "<class 'numpy.ndarray'>\n"
          ]
        }
      ]
    },
    {
      "cell_type": "markdown",
      "source": [
        "**SHUFFLE**"
      ],
      "metadata": {
        "id": "zVUyY0d18AQ-"
      }
    },
    {
      "cell_type": "code",
      "source": [
        "import numpy as np\n",
        "\n",
        "var = np.array([1,2,3,4,5])\n",
        "\n",
        "np.random.shuffle(var)\n",
        "\n",
        "print(var)"
      ],
      "metadata": {
        "colab": {
          "base_uri": "https://localhost:8080/"
        },
        "id": "2IuE4Elg8CRy",
        "outputId": "149cfe03-238f-4d25-89e7-0400821f7ed6"
      },
      "execution_count": 71,
      "outputs": [
        {
          "output_type": "stream",
          "name": "stdout",
          "text": [
            "[2 4 3 5 1]\n"
          ]
        }
      ]
    },
    {
      "cell_type": "markdown",
      "source": [
        "**UNIQUE**"
      ],
      "metadata": {
        "id": "H40olSHC8FQ4"
      }
    },
    {
      "cell_type": "code",
      "source": [
        "var1 = np.array([1,2,3,4,2,5,6,2,7])\n",
        "\n",
        "x = np.unique(var1, return_index = True)\n",
        "\n",
        "print(x)"
      ],
      "metadata": {
        "colab": {
          "base_uri": "https://localhost:8080/"
        },
        "id": "loe9_1m78Ijg",
        "outputId": "5127dd7e-3459-47e3-daa8-9a82cf3ac1cc"
      },
      "execution_count": 72,
      "outputs": [
        {
          "output_type": "stream",
          "name": "stdout",
          "text": [
            "(array([1, 2, 3, 4, 5, 6, 7]), array([0, 1, 2, 3, 5, 6, 8]))\n"
          ]
        }
      ]
    },
    {
      "cell_type": "markdown",
      "source": [
        "**RESIZE**"
      ],
      "metadata": {
        "id": "HfAxKZdj8Rtt"
      }
    },
    {
      "cell_type": "code",
      "source": [
        "var_1 = np.array([1,2,3,4,5,6])\n",
        "\n",
        "y = np.resize(var_1,(2,3))\n",
        "\n",
        "print(y)"
      ],
      "metadata": {
        "colab": {
          "base_uri": "https://localhost:8080/"
        },
        "id": "u6hi86I58T68",
        "outputId": "1683dcda-e3e2-4487-ead9-fb45ca493b92"
      },
      "execution_count": 73,
      "outputs": [
        {
          "output_type": "stream",
          "name": "stdout",
          "text": [
            "[[1 2 3]\n",
            " [4 5 6]]\n"
          ]
        }
      ]
    },
    {
      "cell_type": "markdown",
      "source": [
        "**FLATTEN**"
      ],
      "metadata": {
        "id": "MVxQnCwS8ZV1"
      }
    },
    {
      "cell_type": "code",
      "source": [
        "var_1 = np.array([1,2,3,4,5,6])\n",
        "\n",
        "y = np.resize(var_1,(3,2))\n",
        "print(y)\n",
        "print()\n",
        "\n",
        "print(\"Flatten: \",y.flatten( order =\"C\"))\n",
        "\n",
        "print(\"Ravel: \",np.ravel(y, order=\"A\"))"
      ],
      "metadata": {
        "colab": {
          "base_uri": "https://localhost:8080/"
        },
        "id": "vUrOXcCz8cdA",
        "outputId": "33c82102-bedf-4129-b892-fbc2c4b9a45a"
      },
      "execution_count": 74,
      "outputs": [
        {
          "output_type": "stream",
          "name": "stdout",
          "text": [
            "[[1 2]\n",
            " [3 4]\n",
            " [5 6]]\n",
            "\n",
            "Flatten:  [1 2 3 4 5 6]\n",
            "Ravel:  [1 2 3 4 5 6]\n"
          ]
        }
      ]
    },
    {
      "cell_type": "markdown",
      "source": [
        "**INSERT**"
      ],
      "metadata": {
        "id": "vb5PRFSm8h6E"
      }
    },
    {
      "cell_type": "code",
      "source": [
        "import numpy as np\n",
        "\n",
        "var = np.array([1,2,3,4])\n",
        "\n",
        "print(var)\n",
        "\n",
        "# v = np.insert(var, [2,4], 40)\n",
        "v = np.append(var,6.5)\n",
        "print()\n",
        "print(v)"
      ],
      "metadata": {
        "colab": {
          "base_uri": "https://localhost:8080/"
        },
        "id": "y-V9xMPH8jo7",
        "outputId": "ce971621-d040-4f65-e715-3b9bbd97a629"
      },
      "execution_count": 75,
      "outputs": [
        {
          "output_type": "stream",
          "name": "stdout",
          "text": [
            "[1 2 3 4]\n",
            "\n",
            "[1.  2.  3.  4.  6.5]\n"
          ]
        }
      ]
    },
    {
      "cell_type": "code",
      "source": [
        "var1 = np.array([[1,2,3],[1,2,3]])\n",
        "\n",
        "#v1 = np.insert(var1, 2, 6, axis =1)\n",
        "\n",
        "v1 = np.append(var1,[[45,44,23]], axis=0)\n",
        "\n",
        "print(v1)"
      ],
      "metadata": {
        "colab": {
          "base_uri": "https://localhost:8080/"
        },
        "id": "5mGS8MHe8qwM",
        "outputId": "f7e843d7-4a03-4b24-8a11-70cc76f73ad6"
      },
      "execution_count": 76,
      "outputs": [
        {
          "output_type": "stream",
          "name": "stdout",
          "text": [
            "[[ 1  2  3]\n",
            " [ 1  2  3]\n",
            " [45 44 23]]\n"
          ]
        }
      ]
    },
    {
      "cell_type": "markdown",
      "source": [
        "**DELETE**"
      ],
      "metadata": {
        "id": "fucU-jGh8r9F"
      }
    },
    {
      "cell_type": "code",
      "source": [
        "import numpy as np\n",
        "\n",
        "var1 = np.array([1,2,3,4])\n",
        "\n",
        "print(var1)\n",
        "\n",
        "d = np.delete(var1, 2)\n",
        "print(d)"
      ],
      "metadata": {
        "colab": {
          "base_uri": "https://localhost:8080/"
        },
        "id": "F38UVgaX8tXq",
        "outputId": "6f908fd2-127f-4e06-c6f2-e9c0f12988db"
      },
      "execution_count": 77,
      "outputs": [
        {
          "output_type": "stream",
          "name": "stdout",
          "text": [
            "[1 2 3 4]\n",
            "[1 2 4]\n"
          ]
        }
      ]
    },
    {
      "cell_type": "markdown",
      "source": [
        "**MATRIX**"
      ],
      "metadata": {
        "id": "9g_wrmTo8xHA"
      }
    },
    {
      "cell_type": "code",
      "source": [
        "import numpy as np\n",
        "\n",
        "var = np.matrix([[1,2],[1,2]])\n",
        "var2 = np.matrix([[1,2],[1,2]])\n",
        "print(var)\n",
        "print(type(var))\n",
        "print()\n",
        "print(var+var2)\n",
        "print()\n",
        "print(var*var2)\n",
        "print()\n",
        "print(var.dot(var2))"
      ],
      "metadata": {
        "colab": {
          "base_uri": "https://localhost:8080/"
        },
        "id": "92eU3ta-8wdN",
        "outputId": "2371dd6b-0f38-4134-a23b-446c8907eae6"
      },
      "execution_count": 78,
      "outputs": [
        {
          "output_type": "stream",
          "name": "stdout",
          "text": [
            "[[1 2]\n",
            " [1 2]]\n",
            "<class 'numpy.matrix'>\n",
            "\n",
            "[[2 4]\n",
            " [2 4]]\n",
            "\n",
            "[[3 6]\n",
            " [3 6]]\n",
            "\n",
            "[[3 6]\n",
            " [3 6]]\n"
          ]
        }
      ]
    },
    {
      "cell_type": "code",
      "source": [
        "var1 = np.array([[1,2,3],[1,2,3]])\n",
        "print(var1)\n",
        "print(type(var1))\n",
        "print(var1*var1)"
      ],
      "metadata": {
        "colab": {
          "base_uri": "https://localhost:8080/"
        },
        "id": "khZn2PuA82Uk",
        "outputId": "0c99ac8e-218f-432c-96f3-7792ada0b610"
      },
      "execution_count": 79,
      "outputs": [
        {
          "output_type": "stream",
          "name": "stdout",
          "text": [
            "[[1 2 3]\n",
            " [1 2 3]]\n",
            "<class 'numpy.ndarray'>\n",
            "[[1 4 9]\n",
            " [1 4 9]]\n"
          ]
        }
      ]
    },
    {
      "cell_type": "markdown",
      "source": [
        "**TRANSPOSE**"
      ],
      "metadata": {
        "id": "74KhVMD888BE"
      }
    },
    {
      "cell_type": "code",
      "source": [
        "import numpy as np\n",
        "\n",
        "var = np.matrix([[1,2,3],[4,5,6]])\n",
        "print(var)\n",
        "print()\n",
        "print(np.transpose(var))\n",
        "print()\n",
        "print(var.T)"
      ],
      "metadata": {
        "colab": {
          "base_uri": "https://localhost:8080/"
        },
        "id": "POgiuGZx9AUq",
        "outputId": "4c43ecfb-6c88-47c0-8faf-65b0718fecfe"
      },
      "execution_count": 80,
      "outputs": [
        {
          "output_type": "stream",
          "name": "stdout",
          "text": [
            "[[1 2 3]\n",
            " [4 5 6]]\n",
            "\n",
            "[[1 4]\n",
            " [2 5]\n",
            " [3 6]]\n",
            "\n",
            "[[1 4]\n",
            " [2 5]\n",
            " [3 6]]\n"
          ]
        }
      ]
    },
    {
      "cell_type": "markdown",
      "source": [
        "**SWAPAXES**"
      ],
      "metadata": {
        "id": "8uH9MBm59Dsw"
      }
    },
    {
      "cell_type": "code",
      "source": [
        "import numpy as np\n",
        "\n",
        "var = np.matrix([[1,2,3],[4,5,6]])\n",
        "print(var)\n",
        "print()\n",
        "print(np.swapaxes(var,0,1))"
      ],
      "metadata": {
        "colab": {
          "base_uri": "https://localhost:8080/"
        },
        "id": "6CfeZBOO9G10",
        "outputId": "c25972e1-095c-4057-d9d5-427533c475ca"
      },
      "execution_count": 81,
      "outputs": [
        {
          "output_type": "stream",
          "name": "stdout",
          "text": [
            "[[1 2 3]\n",
            " [4 5 6]]\n",
            "\n",
            "[[1 4]\n",
            " [2 5]\n",
            " [3 6]]\n"
          ]
        }
      ]
    },
    {
      "cell_type": "code",
      "source": [
        "var2 = np.matrix([[1,2],[3,4]])\n",
        "print(var2)\n",
        "print()\n",
        "print(np.swapaxes(var2,0,1))"
      ],
      "metadata": {
        "colab": {
          "base_uri": "https://localhost:8080/"
        },
        "id": "RiyKl1pM9KE_",
        "outputId": "445338b6-ceff-4ee9-ad3d-ccfb276c02e8"
      },
      "execution_count": 82,
      "outputs": [
        {
          "output_type": "stream",
          "name": "stdout",
          "text": [
            "[[1 2]\n",
            " [3 4]]\n",
            "\n",
            "[[1 3]\n",
            " [2 4]]\n"
          ]
        }
      ]
    },
    {
      "cell_type": "markdown",
      "source": [
        "**INVERSE**"
      ],
      "metadata": {
        "id": "B7pSNkkZ9OsB"
      }
    },
    {
      "cell_type": "code",
      "source": [
        "import numpy as np\n",
        "var3 = np.matrix([[1,2],[3,4]])\n",
        "print(var3)\n",
        "print()\n",
        "\n",
        "print(np.linalg.inv(var3))"
      ],
      "metadata": {
        "colab": {
          "base_uri": "https://localhost:8080/"
        },
        "id": "kakGZhxP9RGr",
        "outputId": "8c12080f-ad9a-495c-d8a8-6061187ffc7e"
      },
      "execution_count": 83,
      "outputs": [
        {
          "output_type": "stream",
          "name": "stdout",
          "text": [
            "[[1 2]\n",
            " [3 4]]\n",
            "\n",
            "[[-2.   1. ]\n",
            " [ 1.5 -0.5]]\n"
          ]
        }
      ]
    },
    {
      "cell_type": "markdown",
      "source": [
        "**POWER**"
      ],
      "metadata": {
        "id": "twDnb3t99U4H"
      }
    },
    {
      "cell_type": "code",
      "source": [
        "import numpy as np\n",
        "\n",
        "var4 = np.matrix([[1,2],[3,4]])\n",
        "print(var4)\n",
        "\n",
        "print()\n",
        "print(np.linalg.matrix_power(var4,2))\n",
        "print()\n",
        "print(np.linalg.matrix_power(var4,0))\n",
        "print()\n",
        "print(np.linalg.matrix_power(var4,-2))"
      ],
      "metadata": {
        "colab": {
          "base_uri": "https://localhost:8080/"
        },
        "id": "pFLKWz999YNM",
        "outputId": "8ade389c-8642-4191-92c2-0aafcf572a27"
      },
      "execution_count": 84,
      "outputs": [
        {
          "output_type": "stream",
          "name": "stdout",
          "text": [
            "[[1 2]\n",
            " [3 4]]\n",
            "\n",
            "[[ 7 10]\n",
            " [15 22]]\n",
            "\n",
            "[[1 0]\n",
            " [0 1]]\n",
            "\n",
            "[[ 5.5  -2.5 ]\n",
            " [-3.75  1.75]]\n"
          ]
        }
      ]
    },
    {
      "cell_type": "markdown",
      "source": [
        "**DETERMINANTE**"
      ],
      "metadata": {
        "id": "MWgL6i9G9fGY"
      }
    },
    {
      "cell_type": "code",
      "source": [
        "var5 = np.matrix([[1,2,3],[3,4,3],[1,2,3]])\n",
        "print(var5)\n",
        "print()\n",
        "print(np.linalg.det(var5))"
      ],
      "metadata": {
        "colab": {
          "base_uri": "https://localhost:8080/"
        },
        "id": "kNpIWyDO9jWx",
        "outputId": "8c40c6ed-cf28-4b5b-8a00-f7336892e529"
      },
      "execution_count": 85,
      "outputs": [
        {
          "output_type": "stream",
          "name": "stdout",
          "text": [
            "[[1 2 3]\n",
            " [3 4 3]\n",
            " [1 2 3]]\n",
            "\n",
            "0.0\n"
          ]
        }
      ]
    }
  ]
}